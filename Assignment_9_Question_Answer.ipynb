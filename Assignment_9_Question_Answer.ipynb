{
  "nbformat": 4,
  "nbformat_minor": 0,
  "metadata": {
    "colab": {
      "provenance": []
    },
    "kernelspec": {
      "name": "python3",
      "display_name": "Python 3"
    },
    "language_info": {
      "name": "python"
    }
  },
  "cells": [
    {
      "cell_type": "code",
      "execution_count": 1,
      "metadata": {
        "id": "COGi7ywDFKdN"
      },
      "outputs": [],
      "source": [
        "#Question 1\n",
        "def is_power_of_two(n):\n",
        "    if n <= 0:\n",
        "        return False\n",
        "    return (n & (n - 1)) == 0\n"
      ]
    },
    {
      "cell_type": "code",
      "source": [
        "print(is_power_of_two(1))\n",
        "print(is_power_of_two(16))\n",
        "print(is_power_of_two(3))\n"
      ],
      "metadata": {
        "colab": {
          "base_uri": "https://localhost:8080/"
        },
        "id": "uFZFJDDoFOOY",
        "outputId": "8476e25c-9c12-473b-d61f-80def6b3d2ae"
      },
      "execution_count": 4,
      "outputs": [
        {
          "output_type": "stream",
          "name": "stdout",
          "text": [
            "True\n",
            "True\n",
            "False\n"
          ]
        }
      ]
    },
    {
      "cell_type": "code",
      "source": [
        "#Question 2\n",
        "def sum_of_natural_numbers(n):\n",
        "    return (n * (n + 1)) // 2\n",
        "print(sum_of_natural_numbers(3))\n",
        "print(sum_of_natural_numbers(5))\n"
      ],
      "metadata": {
        "colab": {
          "base_uri": "https://localhost:8080/"
        },
        "id": "XDKL4N4VFQn9",
        "outputId": "2af56ae9-b59b-4654-ea77-a16b56e75656"
      },
      "execution_count": 8,
      "outputs": [
        {
          "output_type": "stream",
          "name": "stdout",
          "text": [
            "6\n",
            "15\n"
          ]
        }
      ]
    },
    {
      "cell_type": "code",
      "source": [
        "#Question 3\n",
        "def factorial(N):\n",
        "    result = 1\n",
        "    for i in range(1, N + 1):\n",
        "        result *= i\n",
        "    return result\n",
        "\n",
        "print(factorial(5))\n",
        "print(factorial(4))"
      ],
      "metadata": {
        "colab": {
          "base_uri": "https://localhost:8080/"
        },
        "id": "XMu7vxdXGDmL",
        "outputId": "9c6efa91-aa14-40ad-c909-91ffc3078ecf"
      },
      "execution_count": 13,
      "outputs": [
        {
          "output_type": "stream",
          "name": "stdout",
          "text": [
            "120\n",
            "24\n"
          ]
        }
      ]
    },
    {
      "cell_type": "code",
      "source": [
        "#Question 4\n",
        "def exponentiation(N, P):\n",
        "    result = N ** P\n",
        "    return result\n",
        "N = 5\n",
        "P = 2\n",
        "print(exponentiation(N, P))\n",
        "N = 2\n",
        "P = 5\n",
        "print(exponentiation(N, P))\n"
      ],
      "metadata": {
        "colab": {
          "base_uri": "https://localhost:8080/"
        },
        "id": "UD-UMuDXGuXI",
        "outputId": "8b01ca95-2ffc-4055-ca46-f6bc84747d6f"
      },
      "execution_count": 15,
      "outputs": [
        {
          "output_type": "stream",
          "name": "stdout",
          "text": [
            "25\n",
            "32\n"
          ]
        }
      ]
    },
    {
      "cell_type": "code",
      "source": [
        "#Question 5\n",
        "def find_max(arr):\n",
        "\n",
        "    if len(arr) == 1:\n",
        "        return arr[0]\n",
        "\n",
        "\n",
        "    mid = len(arr) // 2\n",
        "    left_max = find_max(arr[:mid])\n",
        "    right_max = find_max(arr[mid:])\n",
        "\n",
        "\n",
        "    return max(left_max, right_max)\n"
      ],
      "metadata": {
        "id": "A_7x7mtKHi3k"
      },
      "execution_count": 19,
      "outputs": []
    },
    {
      "cell_type": "code",
      "source": [
        "arr = [1, 4, 3, -5, -4, 8, 6]\n",
        "print(find_max(arr))\n",
        "arr = [1, 4, 45, 6, 10, -8]\n",
        "print(find_max(arr))\n"
      ],
      "metadata": {
        "colab": {
          "base_uri": "https://localhost:8080/"
        },
        "id": "rYBMXVsEICxZ",
        "outputId": "6f3c1761-3b66-474f-ecdd-7d9fe029922a"
      },
      "execution_count": 20,
      "outputs": [
        {
          "output_type": "stream",
          "name": "stdout",
          "text": [
            "8\n",
            "45\n"
          ]
        }
      ]
    },
    {
      "cell_type": "code",
      "source": [
        "#Question 6\n",
        "def find_nth_term(a, d, N):\n",
        "    nth_term = a + (N - 1) * d\n",
        "    return nth_term\n",
        "a = 2\n",
        "d = 1\n",
        "N = 5\n",
        "print(find_nth_term(a, d, N))\n",
        "a = 5\n",
        "d = 2\n",
        "N = 10\n",
        "print(find_nth_term(a, d, N))\n"
      ],
      "metadata": {
        "colab": {
          "base_uri": "https://localhost:8080/"
        },
        "id": "gWLSo6AwIH8w",
        "outputId": "50247b2a-22f3-48da-a471-2d6e1b1fb82a"
      },
      "execution_count": 22,
      "outputs": [
        {
          "output_type": "stream",
          "name": "stdout",
          "text": [
            "6\n",
            "23\n"
          ]
        }
      ]
    },
    {
      "cell_type": "code",
      "source": [
        "#Question 7\n",
        "def permute(S, left, right):\n",
        "    if left == right:\n",
        "        print(\"\".join(S))\n",
        "    else:\n",
        "        for i in range(left, right + 1):\n",
        "            S[left], S[i] = S[i], S[left]\n",
        "            permute(S, left + 1, right)\n",
        "            S[left], S[i] = S[i], S[left]\n",
        "def print_permutations(S):\n",
        "    permute(list(S), 0, len(S) - 1)\n",
        "\n",
        "S = \"ABC\"\n",
        "print_permutations(S)\n",
        "\n",
        "S = \"XY\"\n",
        "print_permutations(S)\n",
        "\n"
      ],
      "metadata": {
        "colab": {
          "base_uri": "https://localhost:8080/"
        },
        "id": "6wsDFyp-Is4H",
        "outputId": "f4cc7e64-ba71-4835-91a3-18bbd7655509"
      },
      "execution_count": 26,
      "outputs": [
        {
          "output_type": "stream",
          "name": "stdout",
          "text": [
            "ABC\n",
            "ACB\n",
            "BAC\n",
            "BCA\n",
            "CBA\n",
            "CAB\n",
            "XY\n",
            "YX\n"
          ]
        }
      ]
    },
    {
      "cell_type": "code",
      "source": [
        "#Question 8\n",
        "def product_of_array_elements(arr):\n",
        "    product = 1\n",
        "    for num in arr:\n",
        "        product *= num\n",
        "    return product\n",
        "\n",
        "arr = [1, 2, 3, 4, 5]\n",
        "print(product_of_array_elements(arr))\n",
        "\n",
        "arr = [1, 6, 3]\n",
        "print(product_of_array_elements(arr))\n"
      ],
      "metadata": {
        "colab": {
          "base_uri": "https://localhost:8080/"
        },
        "id": "8QVCvCiXJC2G",
        "outputId": "a52e0fbb-b1d5-4261-a14f-a895c7fd6656"
      },
      "execution_count": 27,
      "outputs": [
        {
          "output_type": "stream",
          "name": "stdout",
          "text": [
            "120\n",
            "18\n"
          ]
        }
      ]
    },
    {
      "cell_type": "code",
      "source": [],
      "metadata": {
        "id": "TGvmAJHpJX3I"
      },
      "execution_count": null,
      "outputs": []
    }
  ]
}